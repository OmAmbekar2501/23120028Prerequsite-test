{
 "cells": [
  {
   "cell_type": "raw",
   "id": "d8dd6882",
   "metadata": {},
   "source": [
    "1. To perform a matrix multiplication between a (n, k) matrix A and a (k, m) matrix B, resulting in a (n, m) matrix C.\n",
    "    Number of multiplications = n * m * k\n",
    "    Number of additions = n * m * (k-1)\n",
    "    \n",
    "    Reason: For a specific element C(i, j), you need to perform k multiplications and k-1 additions. The reason for k-1 additions is that after the multiplications, you have k products to add together. So, for each element in the resulting matrix, you perform k multiplications and k-1 additions.\n",
    "    "
   ]
  },
  {
   "cell_type": "raw",
   "id": "91f70f5e",
   "metadata": {},
   "source": [
    "2.\n",
    "If we compare the multiplication of two matrix using lists and numpy.\n",
    "Numpy is generally faster for matrix operations because it is implemented in C and optimized for numerical computations. Numpy is more efficient for large matrices due to its optimized implementation. For small matrices, the performance difference might not be as noticeable."
   ]
  },
  {
   "cell_type": "code",
   "execution_count": 1,
   "id": "d9c618aa",
   "metadata": {},
   "outputs": [
    {
     "name": "stdout",
     "output_type": "stream",
     "text": [
      "Result using lists:\n",
      "[[58, 64], [139, 154]]\n",
      "Time taken using lists: 0.0\n",
      "\n",
      "Result using numpy:\n",
      "[[ 58  64]\n",
      " [139 154]]\n",
      "Time taken using numpy: 0.0\n"
     ]
    }
   ],
   "source": [
    "import time\n",
    "import numpy as np\n",
    "\n",
    "def matrix_multiply_lists(A, B):\n",
    "    n = len(A)\n",
    "    k = len(A[0])\n",
    "    m = len(B[0])\n",
    "\n",
    "    C = [[0 for _ in range(m)] for _ in range(n)]\n",
    "\n",
    "    for i in range(n):\n",
    "        for j in range(m):\n",
    "            for l in range(k):\n",
    "                C[i][j] += A[i][l] * B[l][j]\n",
    "\n",
    "    return C\n",
    "\n",
    "A = [[1, 2, 3],\n",
    "     [4, 5, 6]]\n",
    "\n",
    "B = [[7, 8],\n",
    "     [9, 10],\n",
    "     [11, 12]]\n",
    "\n",
    "start_time_lists = time.time()\n",
    "result_lists = matrix_multiply_lists(A, B)\n",
    "end_time_lists = time.time()\n",
    "\n",
    "print(\"Result using lists:\")\n",
    "print(result_lists)\n",
    "print(\"Time taken using lists:\", end_time_lists - start_time_lists)\n",
    "\n",
    "A_np = np.array(A)\n",
    "B_np = np.array(B)\n",
    "\n",
    "start_time_numpy = time.time()\n",
    "result_numpy = np.dot(A_np, B_np)\n",
    "end_time_numpy = time.time()\n",
    "\n",
    "print(\"\\nResult using numpy:\")\n",
    "print(result_numpy)\n",
    "print(\"Time taken using numpy:\", end_time_numpy - start_time_numpy)\n"
   ]
  },
  {
   "cell_type": "markdown",
   "id": "bc90ddbe",
   "metadata": {},
   "source": [
    "4. The gradient of the function $x^2 y + y^3 sin(x)$ is $$ (2xy + y^3 cos(x) , x^2 + 3y^2 sin(x))$$"
   ]
  },
  {
   "cell_type": "code",
   "execution_count": 3,
   "id": "0471554c",
   "metadata": {},
   "outputs": [
    {
     "ename": "ModuleNotFoundError",
     "evalue": "No module named 'jax'",
     "output_type": "error",
     "traceback": [
      "\u001b[1;31m---------------------------------------------------------------------------\u001b[0m",
      "\u001b[1;31mModuleNotFoundError\u001b[0m                       Traceback (most recent call last)",
      "Cell \u001b[1;32mIn[3], line 1\u001b[0m\n\u001b[1;32m----> 1\u001b[0m \u001b[38;5;28;01mimport\u001b[39;00m \u001b[38;5;21;01mjax\u001b[39;00m\n\u001b[0;32m      2\u001b[0m \u001b[38;5;28;01mimport\u001b[39;00m \u001b[38;5;21;01mjax\u001b[39;00m\u001b[38;5;21;01m.\u001b[39;00m\u001b[38;5;21;01mnumpy\u001b[39;00m \u001b[38;5;28;01mas\u001b[39;00m \u001b[38;5;21;01mnp\u001b[39;00m\n\u001b[0;32m      4\u001b[0m \u001b[38;5;66;03m# Define the function\u001b[39;00m\n",
      "\u001b[1;31mModuleNotFoundError\u001b[0m: No module named 'jax'"
     ]
    }
   ],
   "source": [
    "\n",
    "import jax\n",
    "import jax.numpy as np\n",
    "\n",
    "# Define the function\n",
    "def f(x, y):\n",
    "    return x**2 * y + y**3 * np.sin(x)\n",
    "\n",
    "# Define the gradient function using JAX\n",
    "grad_f = jax.grad(f, argnums=(0, 1))\n",
    "\n",
    "# Generate random values for x and y\n",
    "rng = jax.random.PRNGKey(123)\n",
    "x_values = jax.random.uniform(rng, (3,))\n",
    "y_values = jax.random.uniform(rng, (3,))\n",
    "\n",
    "# Calculate the gradient using JAX\n",
    "gradient_jax = grad_f(x_values, y_values)\n",
    "\n",
    "# Calculate the analytical gradient\n",
    "analytical_gradient = (2 * x_values * y_values + y_values**3 * np.cos(x_values),\n",
    "                       x_values**2 + 3 * y_values**2 * np.sin(x_values))\n",
    "\n",
    "# Print the results\n",
    "print(\"Random x values:\", x_values)\n",
    "print(\"Random y values:\", y_values)\n",
    "print(\"Gradient using JAX:\", gradient_jax)\n",
    "print(\"Analytical Gradient:\", analytical_gradient)\n",
    "\n",
    "# Check if the gradients match\n",
    "assert np.allclose(gradient_jax[0], analytical_gradient[0])\n",
    "assert np.allclose(gradient_jax[1], analytical_gradient[1])\n",
    "\n",
    "print(\"Gradients match!\")\n"
   ]
  },
  {
   "cell_type": "code",
   "execution_count": null,
   "id": "43ec3cc4",
   "metadata": {},
   "outputs": [],
   "source": []
  }
 ],
 "metadata": {
  "kernelspec": {
   "display_name": "Python 3 (ipykernel)",
   "language": "python",
   "name": "python3"
  },
  "language_info": {
   "codemirror_mode": {
    "name": "ipython",
    "version": 3
   },
   "file_extension": ".py",
   "mimetype": "text/x-python",
   "name": "python",
   "nbconvert_exporter": "python",
   "pygments_lexer": "ipython3",
   "version": "3.11.5"
  }
 },
 "nbformat": 4,
 "nbformat_minor": 5
}
